{
 "cells": [
  {
   "cell_type": "markdown",
   "metadata": {},
   "source": [
    "This is the second version of the modeling part. I know seek to predict IPO \"failures\" as opposed to \"successes\" in the v1.0 (the definition stayed the same, however). For more details see the discussion below. <br>\n",
    "\n",
    "I also consider techniques to deal with the imbalanced classes (e.g. SMOTE). Plus, I test more models - in addition to GradientBoost, I introduce here Logistic Regression, RandomForest and AdaBoost."
   ]
  },
  {
   "cell_type": "code",
   "execution_count": null,
   "metadata": {},
   "outputs": [],
   "source": [
    "import pandas as pd\n",
    "import numpy as np\n",
    "import seaborn as sns\n",
    "import matplotlib.pyplot as plt\n",
    "\n",
    "%matplotlib inline\n",
    "\n",
    "from patsy import dmatrix\n",
    "from sklearn.model_selection import train_test_split\n",
    "from sklearn.preprocessing import MinMaxScaler, StandardScaler\n",
    "from sklearn.metrics import fbeta_score, recall_score, precision_score, accuracy_score, make_scorer\n",
    "from  sklearn.model_selection import GridSearchCV\n",
    "\n",
    "from sklearn.utils.class_weight import compute_sample_weight\n",
    "from sklearn.linear_model import LogisticRegression\n",
    "from sklearn.ensemble import RandomForestClassifier, AdaBoostClassifier, GradientBoostingClassifier"
   ]
  },
  {
   "cell_type": "code",
   "execution_count": 2,
   "metadata": {},
   "outputs": [],
   "source": [
    "df = pd.read_csv('data/ipo_stock_2010_2018_v2.csv', parse_dates=['Date Priced', 'year'])"
   ]
  },
  {
   "cell_type": "code",
   "execution_count": 3,
   "metadata": {},
   "outputs": [
    {
     "name": "stdout",
     "output_type": "stream",
     "text": [
      "(834, 26)\n"
     ]
    },
    {
     "data": {
      "text/html": [
       "<div>\n",
       "<style scoped>\n",
       "    .dataframe tbody tr th:only-of-type {\n",
       "        vertical-align: middle;\n",
       "    }\n",
       "\n",
       "    .dataframe tbody tr th {\n",
       "        vertical-align: top;\n",
       "    }\n",
       "\n",
       "    .dataframe thead th {\n",
       "        text-align: right;\n",
       "    }\n",
       "</style>\n",
       "<table border=\"1\" class=\"dataframe\">\n",
       "  <thead>\n",
       "    <tr style=\"text-align: right;\">\n",
       "      <th></th>\n",
       "      <th>Company Name</th>\n",
       "      <th>Symbol</th>\n",
       "      <th>Market</th>\n",
       "      <th>Price</th>\n",
       "      <th>Shares</th>\n",
       "      <th>Offer Amount</th>\n",
       "      <th>Date Priced</th>\n",
       "      <th>employees</th>\n",
       "      <th>address</th>\n",
       "      <th>US_state</th>\n",
       "      <th>...</th>\n",
       "      <th>inmonth_open</th>\n",
       "      <th>inweek_adjclose</th>\n",
       "      <th>inweek_open</th>\n",
       "      <th>inyear_adjclose</th>\n",
       "      <th>inyear_open</th>\n",
       "      <th>sector</th>\n",
       "      <th>industry</th>\n",
       "      <th>employees2019</th>\n",
       "      <th>CEO_pay</th>\n",
       "      <th>CEO_born</th>\n",
       "    </tr>\n",
       "  </thead>\n",
       "  <tbody>\n",
       "    <tr>\n",
       "      <th>0</th>\n",
       "      <td>ANDATEE CHINA MARINE FUEL SERVICES CORP</td>\n",
       "      <td>AMCF</td>\n",
       "      <td>NASDAQ</td>\n",
       "      <td>6.3</td>\n",
       "      <td>3134921.0</td>\n",
       "      <td>19750002.0</td>\n",
       "      <td>2010-01-26</td>\n",
       "      <td>128.0</td>\n",
       "      <td>NO. 68 BINHAI RD DALIAN XIGANG DISTRICTDALIAN ...</td>\n",
       "      <td>NaN</td>\n",
       "      <td>...</td>\n",
       "      <td>8.000000</td>\n",
       "      <td>5.830000</td>\n",
       "      <td>6.030000</td>\n",
       "      <td>2.720000</td>\n",
       "      <td>2.58</td>\n",
       "      <td>Energy</td>\n",
       "      <td>Oil &amp; Gas Equipment &amp; Services</td>\n",
       "      <td>189.0</td>\n",
       "      <td>NaN</td>\n",
       "      <td>NaN</td>\n",
       "    </tr>\n",
       "    <tr>\n",
       "      <th>1</th>\n",
       "      <td>GENERAC HOLDINGS INC.</td>\n",
       "      <td>GNRC</td>\n",
       "      <td>New York Stock Exchange</td>\n",
       "      <td>13.0</td>\n",
       "      <td>18750000.0</td>\n",
       "      <td>243750000.0</td>\n",
       "      <td>2010-02-11</td>\n",
       "      <td>1486.0</td>\n",
       "      <td>S45 W29290 HIGHWAY 59WAUKESHA, WI 53187</td>\n",
       "      <td>WI</td>\n",
       "      <td>...</td>\n",
       "      <td>14.910000</td>\n",
       "      <td>8.612183</td>\n",
       "      <td>13.050000</td>\n",
       "      <td>13.415763</td>\n",
       "      <td>20.24</td>\n",
       "      <td>Industrials</td>\n",
       "      <td>Diversified Industrials</td>\n",
       "      <td>5046.0</td>\n",
       "      <td>2520000.0</td>\n",
       "      <td>1972.0</td>\n",
       "    </tr>\n",
       "    <tr>\n",
       "      <th>2</th>\n",
       "      <td>QUINSTREET, INC</td>\n",
       "      <td>QNST</td>\n",
       "      <td>NASDAQ</td>\n",
       "      <td>15.0</td>\n",
       "      <td>10000000.0</td>\n",
       "      <td>150000000.0</td>\n",
       "      <td>2010-02-11</td>\n",
       "      <td>568.0</td>\n",
       "      <td>950 TOWER LANE, 6TH FLOORFOSTER CITY, CA 94404</td>\n",
       "      <td>CA</td>\n",
       "      <td>...</td>\n",
       "      <td>16.010000</td>\n",
       "      <td>12.980000</td>\n",
       "      <td>13.500000</td>\n",
       "      <td>12.740000</td>\n",
       "      <td>12.52</td>\n",
       "      <td>Technology</td>\n",
       "      <td>Internet Content &amp; Information</td>\n",
       "      <td>506.0</td>\n",
       "      <td>816150.0</td>\n",
       "      <td>1960.0</td>\n",
       "    </tr>\n",
       "    <tr>\n",
       "      <th>3</th>\n",
       "      <td>TERRENO REALTY CORP</td>\n",
       "      <td>TRNO</td>\n",
       "      <td>New York Stock Exchange</td>\n",
       "      <td>20.0</td>\n",
       "      <td>8750000.0</td>\n",
       "      <td>175000000.0</td>\n",
       "      <td>2010-02-10</td>\n",
       "      <td>6.0</td>\n",
       "      <td>16 MAIDEN LANEFIFTH FLOORSAN FRANCISCO, CA 94108</td>\n",
       "      <td>CA</td>\n",
       "      <td>...</td>\n",
       "      <td>19.530001</td>\n",
       "      <td>14.770803</td>\n",
       "      <td>18.809999</td>\n",
       "      <td>13.518149</td>\n",
       "      <td>17.02</td>\n",
       "      <td>Real Estate</td>\n",
       "      <td>REIT - Industrial</td>\n",
       "      <td>23.0</td>\n",
       "      <td>799500.0</td>\n",
       "      <td>1961.0</td>\n",
       "    </tr>\n",
       "    <tr>\n",
       "      <th>4</th>\n",
       "      <td>PIEDMONT OFFICE REALTY TRUST, INC.</td>\n",
       "      <td>PDM</td>\n",
       "      <td>New York Stock Exchange</td>\n",
       "      <td>14.5</td>\n",
       "      <td>12000000.0</td>\n",
       "      <td>174000000.0</td>\n",
       "      <td>2010-02-10</td>\n",
       "      <td>109.0</td>\n",
       "      <td>5565 GLENRIDGE CONNECTORSTE 450ATLANTA, GA 30342</td>\n",
       "      <td>GA</td>\n",
       "      <td>...</td>\n",
       "      <td>19.299999</td>\n",
       "      <td>10.400203</td>\n",
       "      <td>17.830000</td>\n",
       "      <td>14.289856</td>\n",
       "      <td>21.02</td>\n",
       "      <td>Real Estate</td>\n",
       "      <td>REIT - Office</td>\n",
       "      <td>134.0</td>\n",
       "      <td>NaN</td>\n",
       "      <td>NaN</td>\n",
       "    </tr>\n",
       "  </tbody>\n",
       "</table>\n",
       "<p>5 rows × 26 columns</p>\n",
       "</div>"
      ],
      "text/plain": [
       "                              Company Name Symbol                   Market  \\\n",
       "0  ANDATEE CHINA MARINE FUEL SERVICES CORP   AMCF                   NASDAQ   \n",
       "1                    GENERAC HOLDINGS INC.   GNRC  New York Stock Exchange   \n",
       "2                          QUINSTREET, INC   QNST                   NASDAQ   \n",
       "3                      TERRENO REALTY CORP   TRNO  New York Stock Exchange   \n",
       "4       PIEDMONT OFFICE REALTY TRUST, INC.    PDM  New York Stock Exchange   \n",
       "\n",
       "   Price      Shares  Offer Amount Date Priced  employees  \\\n",
       "0    6.3   3134921.0    19750002.0  2010-01-26      128.0   \n",
       "1   13.0  18750000.0   243750000.0  2010-02-11     1486.0   \n",
       "2   15.0  10000000.0   150000000.0  2010-02-11      568.0   \n",
       "3   20.0   8750000.0   175000000.0  2010-02-10        6.0   \n",
       "4   14.5  12000000.0   174000000.0  2010-02-10      109.0   \n",
       "\n",
       "                                             address US_state  ...  \\\n",
       "0  NO. 68 BINHAI RD DALIAN XIGANG DISTRICTDALIAN ...      NaN  ...   \n",
       "1            S45 W29290 HIGHWAY 59WAUKESHA, WI 53187       WI  ...   \n",
       "2     950 TOWER LANE, 6TH FLOORFOSTER CITY, CA 94404       CA  ...   \n",
       "3   16 MAIDEN LANEFIFTH FLOORSAN FRANCISCO, CA 94108       CA  ...   \n",
       "4   5565 GLENRIDGE CONNECTORSTE 450ATLANTA, GA 30342       GA  ...   \n",
       "\n",
       "  inmonth_open inweek_adjclose inweek_open  inyear_adjclose  inyear_open  \\\n",
       "0     8.000000        5.830000    6.030000         2.720000         2.58   \n",
       "1    14.910000        8.612183   13.050000        13.415763        20.24   \n",
       "2    16.010000       12.980000   13.500000        12.740000        12.52   \n",
       "3    19.530001       14.770803   18.809999        13.518149        17.02   \n",
       "4    19.299999       10.400203   17.830000        14.289856        21.02   \n",
       "\n",
       "        sector                        industry  employees2019    CEO_pay  \\\n",
       "0       Energy  Oil & Gas Equipment & Services          189.0        NaN   \n",
       "1  Industrials         Diversified Industrials         5046.0  2520000.0   \n",
       "2   Technology  Internet Content & Information          506.0   816150.0   \n",
       "3  Real Estate               REIT - Industrial           23.0   799500.0   \n",
       "4  Real Estate                   REIT - Office          134.0        NaN   \n",
       "\n",
       "   CEO_born  \n",
       "0       NaN  \n",
       "1    1972.0  \n",
       "2    1960.0  \n",
       "3    1961.0  \n",
       "4       NaN  \n",
       "\n",
       "[5 rows x 26 columns]"
      ]
     },
     "execution_count": 3,
     "metadata": {},
     "output_type": "execute_result"
    }
   ],
   "source": [
    "print(df.shape)\n",
    "df.head()"
   ]
  },
  {
   "cell_type": "code",
   "execution_count": 4,
   "metadata": {},
   "outputs": [
    {
     "data": {
      "text/plain": [
       "Index(['Company Name', 'Symbol', 'Market', 'Price', 'Shares', 'Offer Amount',\n",
       "       'Date Priced', 'employees', 'address', 'US_state', 'descriptions',\n",
       "       'link_nasdaq', 'year', 'firstday_adjclose', 'firstday_open',\n",
       "       'inmonth_adjclose', 'inmonth_open', 'inweek_adjclose', 'inweek_open',\n",
       "       'inyear_adjclose', 'inyear_open', 'sector', 'industry', 'employees2019',\n",
       "       'CEO_pay', 'CEO_born'],\n",
       "      dtype='object')"
      ]
     },
     "execution_count": 4,
     "metadata": {},
     "output_type": "execute_result"
    }
   ],
   "source": [
    "df.columns"
   ]
  },
  {
   "cell_type": "code",
   "execution_count": 5,
   "metadata": {},
   "outputs": [],
   "source": [
    "keep_cols = ['Company Name', 'Price', 'Shares', 'Offer Amount',\n",
    "       'Date Priced', 'employees', 'US_state', 'firstday_adjclose', 'firstday_open',\n",
    "       'inmonth_adjclose', 'inweek_adjclose', 'sector', 'CEO_pay', 'CEO_born']"
   ]
  },
  {
   "cell_type": "code",
   "execution_count": 6,
   "metadata": {},
   "outputs": [],
   "source": [
    "df = df[keep_cols]"
   ]
  },
  {
   "cell_type": "code",
   "execution_count": 7,
   "metadata": {},
   "outputs": [],
   "source": [
    "#assigning to all companies that don't have US_state - foreign status\n",
    "df['US_state'] = df['US_state'].apply(lambda x: 'foreign' if str(x) == 'nan' else x)"
   ]
  },
  {
   "cell_type": "code",
   "execution_count": 8,
   "metadata": {},
   "outputs": [],
   "source": [
    "df['diff_close_inday_2_open_firstday'] = df['firstday_adjclose'] - df['firstday_open']"
   ]
  },
  {
   "cell_type": "markdown",
   "metadata": {},
   "source": [
    "# Check for Typos in Prices"
   ]
  },
  {
   "cell_type": "markdown",
   "metadata": {},
   "source": [
    "It turned out that Yahoo Finance has mistakes in historical data. I came to acknowledge this after comparing IPO offer price and scraped opening price on Yahoo Finance. The following code does just that - shows the companies where the discrepancies are higher than 2 times. I have checked few companies manually - the scraper scraped the correct data for correct company and date. However, when checked against news this Yahoo Finance data is indeed unreliable.So I decided to exclude these from the dataset.<br>\n",
    "\n",
    "For instance, Blue Apron Inc went to IPO on 6/29/2017 with the offer price of \\\\$10. Yahoo Finance reports its price on 6/29/2017 as \\\\$150 (see also the pic below). In reality, however, it's opening and closing price was \\\\$10 (https://www.cnbc.com/2017/06/29/blue-apron-ipo-opening-trade.html)\n",
    "\n",
    "<img src=\"assets/BlueApron_example.png\" alt=\"drawing\" height=\"1500\" width=\"800\"/>\n",
    "\n"
   ]
  },
  {
   "cell_type": "code",
   "execution_count": 9,
   "metadata": {},
   "outputs": [],
   "source": [
    "df['check_prices'] = df['firstday_open']/df['Price']"
   ]
  },
  {
   "cell_type": "code",
   "execution_count": 10,
   "metadata": {},
   "outputs": [],
   "source": [
    "typo_prices = df[(df['check_prices'] > 2) | (df['check_prices'] < -2)][['Company Name', 'Price', 'firstday_open','firstday_adjclose', 'inweek_adjclose']]"
   ]
  },
  {
   "cell_type": "code",
   "execution_count": 11,
   "metadata": {},
   "outputs": [
    {
     "name": "stdout",
     "output_type": "stream",
     "text": [
      "47\n"
     ]
    },
    {
     "data": {
      "text/html": [
       "<div>\n",
       "<style scoped>\n",
       "    .dataframe tbody tr th:only-of-type {\n",
       "        vertical-align: middle;\n",
       "    }\n",
       "\n",
       "    .dataframe tbody tr th {\n",
       "        vertical-align: top;\n",
       "    }\n",
       "\n",
       "    .dataframe thead th {\n",
       "        text-align: right;\n",
       "    }\n",
       "</style>\n",
       "<table border=\"1\" class=\"dataframe\">\n",
       "  <thead>\n",
       "    <tr style=\"text-align: right;\">\n",
       "      <th></th>\n",
       "      <th>Company Name</th>\n",
       "      <th>Price</th>\n",
       "      <th>firstday_open</th>\n",
       "      <th>firstday_adjclose</th>\n",
       "      <th>inweek_adjclose</th>\n",
       "    </tr>\n",
       "  </thead>\n",
       "  <tbody>\n",
       "    <tr>\n",
       "      <th>7</th>\n",
       "      <td>SCORPIO TANKERS INC.</td>\n",
       "      <td>13.0</td>\n",
       "      <td>127.500000</td>\n",
       "      <td>121.557602</td>\n",
       "      <td>120.686592</td>\n",
       "    </tr>\n",
       "    <tr>\n",
       "      <th>23</th>\n",
       "      <td>ROADRUNNER TRANSPORTATION SYSTEMS, INC.</td>\n",
       "      <td>14.0</td>\n",
       "      <td>343.750000</td>\n",
       "      <td>343.750000</td>\n",
       "      <td>348.750000</td>\n",
       "    </tr>\n",
       "    <tr>\n",
       "      <th>36</th>\n",
       "      <td>AMYRIS, INC.</td>\n",
       "      <td>16.0</td>\n",
       "      <td>247.500000</td>\n",
       "      <td>247.500000</td>\n",
       "      <td>256.049988</td>\n",
       "    </tr>\n",
       "    <tr>\n",
       "      <th>43</th>\n",
       "      <td>DAQO NEW ENERGY CORP.</td>\n",
       "      <td>9.5</td>\n",
       "      <td>49.900002</td>\n",
       "      <td>51.250000</td>\n",
       "      <td>67.000000</td>\n",
       "    </tr>\n",
       "    <tr>\n",
       "      <th>47</th>\n",
       "      <td>GLOBUS MARITIME LTD</td>\n",
       "      <td>11.6</td>\n",
       "      <td>476.000000</td>\n",
       "      <td>488.170715</td>\n",
       "      <td>497.734833</td>\n",
       "    </tr>\n",
       "  </tbody>\n",
       "</table>\n",
       "</div>"
      ],
      "text/plain": [
       "                               Company Name  Price  firstday_open  \\\n",
       "7                      SCORPIO TANKERS INC.   13.0     127.500000   \n",
       "23  ROADRUNNER TRANSPORTATION SYSTEMS, INC.   14.0     343.750000   \n",
       "36                             AMYRIS, INC.   16.0     247.500000   \n",
       "43                    DAQO NEW ENERGY CORP.    9.5      49.900002   \n",
       "47                      GLOBUS MARITIME LTD   11.6     476.000000   \n",
       "\n",
       "    firstday_adjclose  inweek_adjclose  \n",
       "7          121.557602       120.686592  \n",
       "23         343.750000       348.750000  \n",
       "36         247.500000       256.049988  \n",
       "43          51.250000        67.000000  \n",
       "47         488.170715       497.734833  "
      ]
     },
     "execution_count": 11,
     "metadata": {},
     "output_type": "execute_result"
    }
   ],
   "source": [
    "print(typo_prices.shape[0])\n",
    "typo_prices.head()"
   ]
  },
  {
   "cell_type": "code",
   "execution_count": 12,
   "metadata": {},
   "outputs": [],
   "source": [
    "df = df.drop(typo_prices.index, axis=0)"
   ]
  },
  {
   "cell_type": "code",
   "execution_count": 13,
   "metadata": {},
   "outputs": [],
   "source": [
    "df.reset_index(drop=True, inplace=True)"
   ]
  },
  {
   "cell_type": "code",
   "execution_count": 14,
   "metadata": {},
   "outputs": [
    {
     "data": {
      "text/plain": [
       "Company Name                          0\n",
       "Price                                 1\n",
       "Shares                                1\n",
       "Offer Amount                          0\n",
       "Date Priced                           0\n",
       "employees                            14\n",
       "US_state                              0\n",
       "firstday_adjclose                     0\n",
       "firstday_open                         0\n",
       "inmonth_adjclose                      0\n",
       "inweek_adjclose                       0\n",
       "sector                               10\n",
       "CEO_pay                             214\n",
       "CEO_born                             70\n",
       "diff_close_inday_2_open_firstday      0\n",
       "check_prices                          1\n",
       "dtype: int64"
      ]
     },
     "execution_count": 14,
     "metadata": {},
     "output_type": "execute_result"
    }
   ],
   "source": [
    "df.isna().sum()"
   ]
  },
  {
   "cell_type": "code",
   "execution_count": 15,
   "metadata": {},
   "outputs": [],
   "source": [
    "#drop 1 row where there is no Offer Price\n",
    "df.drop(df[df.Price.isna()].index, axis=0, inplace=True)"
   ]
  },
  {
   "cell_type": "code",
   "execution_count": 16,
   "metadata": {},
   "outputs": [],
   "source": [
    "#drop 14 rows where there are no employees\n",
    "df.drop(df[df.employees.isna()].index, axis=0, inplace=True)"
   ]
  },
  {
   "cell_type": "code",
   "execution_count": 17,
   "metadata": {},
   "outputs": [],
   "source": [
    "#drop 10 rows where there is no sector\n",
    "df.drop(df[df.sector.isna()].index, axis=0, inplace=True)"
   ]
  },
  {
   "cell_type": "code",
   "execution_count": 18,
   "metadata": {},
   "outputs": [
    {
     "data": {
      "text/plain": [
       "Company Name                          0\n",
       "Price                                 0\n",
       "Shares                                0\n",
       "Offer Amount                          0\n",
       "Date Priced                           0\n",
       "employees                             0\n",
       "US_state                              0\n",
       "firstday_adjclose                     0\n",
       "firstday_open                         0\n",
       "inmonth_adjclose                      0\n",
       "inweek_adjclose                       0\n",
       "sector                                0\n",
       "CEO_pay                             198\n",
       "CEO_born                             58\n",
       "diff_close_inday_2_open_firstday      0\n",
       "check_prices                          0\n",
       "dtype: int64"
      ]
     },
     "execution_count": 18,
     "metadata": {},
     "output_type": "execute_result"
    }
   ],
   "source": [
    "df.isna().sum()"
   ]
  },
  {
   "cell_type": "code",
   "execution_count": 19,
   "metadata": {},
   "outputs": [],
   "source": [
    "#drop rows where there is no CEO_born\n",
    "df.drop(df[df.CEO_born.isna()].index, axis=0, inplace=True)"
   ]
  },
  {
   "cell_type": "code",
   "execution_count": 20,
   "metadata": {},
   "outputs": [],
   "source": [
    "#drop rows where there is no CEO_pay\n",
    "df.drop(df[df.CEO_pay.isna()].index, axis=0, inplace=True)"
   ]
  },
  {
   "cell_type": "code",
   "execution_count": 21,
   "metadata": {},
   "outputs": [
    {
     "data": {
      "text/plain": [
       "565"
      ]
     },
     "execution_count": 21,
     "metadata": {},
     "output_type": "execute_result"
    }
   ],
   "source": [
    "df['y'] = df['diff_close_inday_2_open_firstday'].apply(lambda x: 1 if x >= 1 else 0)\n",
    "df['y'].size"
   ]
  },
  {
   "cell_type": "markdown",
   "metadata": {},
   "source": [
    "# Feature Engineering"
   ]
  },
  {
   "cell_type": "markdown",
   "metadata": {},
   "source": [
    "### Weekday of the IPO day "
   ]
  },
  {
   "cell_type": "code",
   "execution_count": 22,
   "metadata": {},
   "outputs": [],
   "source": [
    "df['month'] = df['Date Priced'].map(lambda x: x.month)"
   ]
  },
  {
   "cell_type": "code",
   "execution_count": 23,
   "metadata": {},
   "outputs": [],
   "source": [
    "df['month'] = df['month'].map({1:'Jan', 2:'Feb', 3:'Mar', 4:'Apr', 5:'May', 6:'Jun', 7:'Jul', 8:'Aug',\\\n",
    "                                  9:'Sep', 10:'Oct', 11:'Nov', 12:'Dec'})"
   ]
  },
  {
   "cell_type": "code",
   "execution_count": 24,
   "metadata": {},
   "outputs": [],
   "source": [
    "df['weekday'] = df['Date Priced'].dt.dayofweek.map({0:'Mon', 1:'Tue', 2:'Wed', 3:'Thu', 4:'Fri', 5:'Sat', 6:'Sun'})"
   ]
  },
  {
   "cell_type": "code",
   "execution_count": 25,
   "metadata": {},
   "outputs": [
    {
     "data": {
      "text/plain": [
       "(565, 19)"
      ]
     },
     "execution_count": 25,
     "metadata": {},
     "output_type": "execute_result"
    }
   ],
   "source": [
    "df.shape"
   ]
  },
  {
   "cell_type": "code",
   "execution_count": 26,
   "metadata": {},
   "outputs": [
    {
     "data": {
      "text/html": [
       "<div>\n",
       "<style scoped>\n",
       "    .dataframe tbody tr th:only-of-type {\n",
       "        vertical-align: middle;\n",
       "    }\n",
       "\n",
       "    .dataframe tbody tr th {\n",
       "        vertical-align: top;\n",
       "    }\n",
       "\n",
       "    .dataframe thead th {\n",
       "        text-align: right;\n",
       "    }\n",
       "</style>\n",
       "<table border=\"1\" class=\"dataframe\">\n",
       "  <thead>\n",
       "    <tr style=\"text-align: right;\">\n",
       "      <th></th>\n",
       "      <th>Company Name</th>\n",
       "      <th>Price</th>\n",
       "      <th>Shares</th>\n",
       "      <th>Offer Amount</th>\n",
       "      <th>Date Priced</th>\n",
       "      <th>employees</th>\n",
       "      <th>US_state</th>\n",
       "      <th>firstday_adjclose</th>\n",
       "      <th>firstday_open</th>\n",
       "      <th>inmonth_adjclose</th>\n",
       "      <th>inweek_adjclose</th>\n",
       "      <th>sector</th>\n",
       "      <th>CEO_pay</th>\n",
       "      <th>CEO_born</th>\n",
       "      <th>diff_close_inday_2_open_firstday</th>\n",
       "      <th>check_prices</th>\n",
       "      <th>y</th>\n",
       "      <th>month</th>\n",
       "      <th>weekday</th>\n",
       "    </tr>\n",
       "  </thead>\n",
       "  <tbody>\n",
       "    <tr>\n",
       "      <th>1</th>\n",
       "      <td>GENERAC HOLDINGS INC.</td>\n",
       "      <td>13.0</td>\n",
       "      <td>18750000.0</td>\n",
       "      <td>243750000.0</td>\n",
       "      <td>2010-02-11</td>\n",
       "      <td>1486.0</td>\n",
       "      <td>WI</td>\n",
       "      <td>8.460629</td>\n",
       "      <td>13.00</td>\n",
       "      <td>9.719180</td>\n",
       "      <td>8.612183</td>\n",
       "      <td>Industrials</td>\n",
       "      <td>2520000.0</td>\n",
       "      <td>1972.0</td>\n",
       "      <td>-4.539371</td>\n",
       "      <td>1.000000</td>\n",
       "      <td>0</td>\n",
       "      <td>Feb</td>\n",
       "      <td>Thu</td>\n",
       "    </tr>\n",
       "    <tr>\n",
       "      <th>2</th>\n",
       "      <td>QUINSTREET, INC</td>\n",
       "      <td>15.0</td>\n",
       "      <td>10000000.0</td>\n",
       "      <td>150000000.0</td>\n",
       "      <td>2010-02-11</td>\n",
       "      <td>568.0</td>\n",
       "      <td>CA</td>\n",
       "      <td>15.000000</td>\n",
       "      <td>15.00</td>\n",
       "      <td>16.410000</td>\n",
       "      <td>12.980000</td>\n",
       "      <td>Technology</td>\n",
       "      <td>816150.0</td>\n",
       "      <td>1960.0</td>\n",
       "      <td>0.000000</td>\n",
       "      <td>1.000000</td>\n",
       "      <td>0</td>\n",
       "      <td>Feb</td>\n",
       "      <td>Thu</td>\n",
       "    </tr>\n",
       "    <tr>\n",
       "      <th>3</th>\n",
       "      <td>TERRENO REALTY CORP</td>\n",
       "      <td>20.0</td>\n",
       "      <td>8750000.0</td>\n",
       "      <td>175000000.0</td>\n",
       "      <td>2010-02-10</td>\n",
       "      <td>6.0</td>\n",
       "      <td>CA</td>\n",
       "      <td>14.692022</td>\n",
       "      <td>18.75</td>\n",
       "      <td>15.330121</td>\n",
       "      <td>14.770803</td>\n",
       "      <td>Real Estate</td>\n",
       "      <td>799500.0</td>\n",
       "      <td>1961.0</td>\n",
       "      <td>-4.057978</td>\n",
       "      <td>0.937500</td>\n",
       "      <td>0</td>\n",
       "      <td>Feb</td>\n",
       "      <td>Wed</td>\n",
       "    </tr>\n",
       "    <tr>\n",
       "      <th>6</th>\n",
       "      <td>SS&amp;C TECHNOLOGIES HOLDINGS INC</td>\n",
       "      <td>15.0</td>\n",
       "      <td>10725000.0</td>\n",
       "      <td>160875000.0</td>\n",
       "      <td>2010-03-31</td>\n",
       "      <td>1253.0</td>\n",
       "      <td>CT</td>\n",
       "      <td>7.181165</td>\n",
       "      <td>8.00</td>\n",
       "      <td>7.957377</td>\n",
       "      <td>7.862139</td>\n",
       "      <td>Technology</td>\n",
       "      <td>10880000.0</td>\n",
       "      <td>1955.0</td>\n",
       "      <td>-0.818835</td>\n",
       "      <td>0.533333</td>\n",
       "      <td>0</td>\n",
       "      <td>Mar</td>\n",
       "      <td>Wed</td>\n",
       "    </tr>\n",
       "    <tr>\n",
       "      <th>8</th>\n",
       "      <td>FIRST INTERSTATE BANCSYSTEM INC</td>\n",
       "      <td>14.5</td>\n",
       "      <td>10000000.0</td>\n",
       "      <td>145000000.0</td>\n",
       "      <td>2010-03-24</td>\n",
       "      <td>1730.0</td>\n",
       "      <td>MT</td>\n",
       "      <td>11.994637</td>\n",
       "      <td>16.00</td>\n",
       "      <td>12.239342</td>\n",
       "      <td>12.331657</td>\n",
       "      <td>Financial Services</td>\n",
       "      <td>1710000.0</td>\n",
       "      <td>1960.0</td>\n",
       "      <td>-4.005363</td>\n",
       "      <td>1.103448</td>\n",
       "      <td>0</td>\n",
       "      <td>Mar</td>\n",
       "      <td>Wed</td>\n",
       "    </tr>\n",
       "  </tbody>\n",
       "</table>\n",
       "</div>"
      ],
      "text/plain": [
       "                      Company Name  Price      Shares  Offer Amount  \\\n",
       "1            GENERAC HOLDINGS INC.   13.0  18750000.0   243750000.0   \n",
       "2                  QUINSTREET, INC   15.0  10000000.0   150000000.0   \n",
       "3              TERRENO REALTY CORP   20.0   8750000.0   175000000.0   \n",
       "6   SS&C TECHNOLOGIES HOLDINGS INC   15.0  10725000.0   160875000.0   \n",
       "8  FIRST INTERSTATE BANCSYSTEM INC   14.5  10000000.0   145000000.0   \n",
       "\n",
       "  Date Priced  employees US_state  firstday_adjclose  firstday_open  \\\n",
       "1  2010-02-11     1486.0       WI           8.460629          13.00   \n",
       "2  2010-02-11      568.0       CA          15.000000          15.00   \n",
       "3  2010-02-10        6.0       CA          14.692022          18.75   \n",
       "6  2010-03-31     1253.0       CT           7.181165           8.00   \n",
       "8  2010-03-24     1730.0       MT          11.994637          16.00   \n",
       "\n",
       "   inmonth_adjclose  inweek_adjclose              sector     CEO_pay  \\\n",
       "1          9.719180         8.612183         Industrials   2520000.0   \n",
       "2         16.410000        12.980000          Technology    816150.0   \n",
       "3         15.330121        14.770803         Real Estate    799500.0   \n",
       "6          7.957377         7.862139          Technology  10880000.0   \n",
       "8         12.239342        12.331657  Financial Services   1710000.0   \n",
       "\n",
       "   CEO_born  diff_close_inday_2_open_firstday  check_prices  y month weekday  \n",
       "1    1972.0                         -4.539371      1.000000  0   Feb     Thu  \n",
       "2    1960.0                          0.000000      1.000000  0   Feb     Thu  \n",
       "3    1961.0                         -4.057978      0.937500  0   Feb     Wed  \n",
       "6    1955.0                         -0.818835      0.533333  0   Mar     Wed  \n",
       "8    1960.0                         -4.005363      1.103448  0   Mar     Wed  "
      ]
     },
     "execution_count": 26,
     "metadata": {},
     "output_type": "execute_result"
    }
   ],
   "source": [
    "df.head()"
   ]
  },
  {
   "cell_type": "markdown",
   "metadata": {},
   "source": [
    "### Market Conditions"
   ]
  },
  {
   "cell_type": "markdown",
   "metadata": {},
   "source": [
    "It makes sense to add broad market conditions approximized here by S&P500. If the general stock market was down, probably this will affect the IPO prices on the first day. So I take a market change a week before IPO date and construct a new feature SP_Week_Chg. "
   ]
  },
  {
   "cell_type": "code",
   "execution_count": 27,
   "metadata": {},
   "outputs": [],
   "source": [
    "sp = pd.read_csv('data/spy.csv')"
   ]
  },
  {
   "cell_type": "code",
   "execution_count": 28,
   "metadata": {},
   "outputs": [
    {
     "data": {
      "text/html": [
       "<div>\n",
       "<style scoped>\n",
       "    .dataframe tbody tr th:only-of-type {\n",
       "        vertical-align: middle;\n",
       "    }\n",
       "\n",
       "    .dataframe tbody tr th {\n",
       "        vertical-align: top;\n",
       "    }\n",
       "\n",
       "    .dataframe thead th {\n",
       "        text-align: right;\n",
       "    }\n",
       "</style>\n",
       "<table border=\"1\" class=\"dataframe\">\n",
       "  <thead>\n",
       "    <tr style=\"text-align: right;\">\n",
       "      <th></th>\n",
       "      <th>Date</th>\n",
       "      <th>Open</th>\n",
       "      <th>High</th>\n",
       "      <th>Low</th>\n",
       "      <th>Close</th>\n",
       "      <th>Adj Close</th>\n",
       "      <th>Volume</th>\n",
       "    </tr>\n",
       "  </thead>\n",
       "  <tbody>\n",
       "    <tr>\n",
       "      <th>0</th>\n",
       "      <td>2000-01-03</td>\n",
       "      <td>1469.250000</td>\n",
       "      <td>1478.000000</td>\n",
       "      <td>1438.359985</td>\n",
       "      <td>1455.219971</td>\n",
       "      <td>1455.219971</td>\n",
       "      <td>931800000</td>\n",
       "    </tr>\n",
       "    <tr>\n",
       "      <th>1</th>\n",
       "      <td>2000-01-04</td>\n",
       "      <td>1455.219971</td>\n",
       "      <td>1455.219971</td>\n",
       "      <td>1397.430054</td>\n",
       "      <td>1399.420044</td>\n",
       "      <td>1399.420044</td>\n",
       "      <td>1009000000</td>\n",
       "    </tr>\n",
       "    <tr>\n",
       "      <th>2</th>\n",
       "      <td>2000-01-05</td>\n",
       "      <td>1399.420044</td>\n",
       "      <td>1413.270020</td>\n",
       "      <td>1377.680054</td>\n",
       "      <td>1402.109985</td>\n",
       "      <td>1402.109985</td>\n",
       "      <td>1085500000</td>\n",
       "    </tr>\n",
       "    <tr>\n",
       "      <th>3</th>\n",
       "      <td>2000-01-06</td>\n",
       "      <td>1402.109985</td>\n",
       "      <td>1411.900024</td>\n",
       "      <td>1392.099976</td>\n",
       "      <td>1403.449951</td>\n",
       "      <td>1403.449951</td>\n",
       "      <td>1092300000</td>\n",
       "    </tr>\n",
       "    <tr>\n",
       "      <th>4</th>\n",
       "      <td>2000-01-07</td>\n",
       "      <td>1403.449951</td>\n",
       "      <td>1441.469971</td>\n",
       "      <td>1400.729980</td>\n",
       "      <td>1441.469971</td>\n",
       "      <td>1441.469971</td>\n",
       "      <td>1225200000</td>\n",
       "    </tr>\n",
       "  </tbody>\n",
       "</table>\n",
       "</div>"
      ],
      "text/plain": [
       "        Date         Open         High          Low        Close    Adj Close  \\\n",
       "0 2000-01-03  1469.250000  1478.000000  1438.359985  1455.219971  1455.219971   \n",
       "1 2000-01-04  1455.219971  1455.219971  1397.430054  1399.420044  1399.420044   \n",
       "2 2000-01-05  1399.420044  1413.270020  1377.680054  1402.109985  1402.109985   \n",
       "3 2000-01-06  1402.109985  1411.900024  1392.099976  1403.449951  1403.449951   \n",
       "4 2000-01-07  1403.449951  1441.469971  1400.729980  1441.469971  1441.469971   \n",
       "\n",
       "       Volume  \n",
       "0   931800000  \n",
       "1  1009000000  \n",
       "2  1085500000  \n",
       "3  1092300000  \n",
       "4  1225200000  "
      ]
     },
     "execution_count": 28,
     "metadata": {},
     "output_type": "execute_result"
    }
   ],
   "source": [
    "# we need to have our Date values ordered \n",
    "#even if it is oredered already, let's do it anyway as a good practice working with dates\n",
    "sp.sort_values('Date', inplace=True)\n",
    "sp.reset_index(drop=True, inplace=True)\n",
    "sp.Date = pd.to_datetime(sp.Date)\n",
    "sp.head()"
   ]
  },
  {
   "cell_type": "code",
   "execution_count": 29,
   "metadata": {},
   "outputs": [],
   "source": [
    "def get_week_chg(ipo_dt):\n",
    "    try: \n",
    "        day_ago_idx = sp[sp['Date'] == str(ipo_dt.date())].index[0] - 1\n",
    "        week_ago_idx = sp[sp['Date'] == str(ipo_dt.date())].index[0] - 8\n",
    "        chg = (sp.iloc[day_ago_idx]['Close'] - sp.iloc[week_ago_idx]['Close'])/(sp.iloc[week_ago_idx]['Close'])\n",
    "        return chg * 100\n",
    "    except:\n",
    "        print('error', ipo_dt.date())      "
   ]
  },
  {
   "cell_type": "code",
   "execution_count": 30,
   "metadata": {},
   "outputs": [],
   "source": [
    "df['SP_Week_Chg'] = df['Date Priced'].map(get_week_chg)"
   ]
  },
  {
   "cell_type": "markdown",
   "metadata": {},
   "source": [
    "# Normalizing numerical features"
   ]
  },
  {
   "cell_type": "code",
   "execution_count": 31,
   "metadata": {},
   "outputs": [
    {
     "data": {
      "text/html": [
       "<div>\n",
       "<style scoped>\n",
       "    .dataframe tbody tr th:only-of-type {\n",
       "        vertical-align: middle;\n",
       "    }\n",
       "\n",
       "    .dataframe tbody tr th {\n",
       "        vertical-align: top;\n",
       "    }\n",
       "\n",
       "    .dataframe thead th {\n",
       "        text-align: right;\n",
       "    }\n",
       "</style>\n",
       "<table border=\"1\" class=\"dataframe\">\n",
       "  <thead>\n",
       "    <tr style=\"text-align: right;\">\n",
       "      <th></th>\n",
       "      <th>Company Name</th>\n",
       "      <th>Price</th>\n",
       "      <th>Shares</th>\n",
       "      <th>Offer Amount</th>\n",
       "      <th>Date Priced</th>\n",
       "      <th>employees</th>\n",
       "      <th>US_state</th>\n",
       "      <th>firstday_adjclose</th>\n",
       "      <th>firstday_open</th>\n",
       "      <th>inmonth_adjclose</th>\n",
       "      <th>inweek_adjclose</th>\n",
       "      <th>sector</th>\n",
       "      <th>CEO_pay</th>\n",
       "      <th>CEO_born</th>\n",
       "      <th>diff_close_inday_2_open_firstday</th>\n",
       "      <th>check_prices</th>\n",
       "      <th>y</th>\n",
       "      <th>month</th>\n",
       "      <th>weekday</th>\n",
       "      <th>SP_Week_Chg</th>\n",
       "    </tr>\n",
       "  </thead>\n",
       "  <tbody>\n",
       "    <tr>\n",
       "      <th>1</th>\n",
       "      <td>GENERAC HOLDINGS INC.</td>\n",
       "      <td>-0.304272</td>\n",
       "      <td>0.153041</td>\n",
       "      <td>-0.024445</td>\n",
       "      <td>2010-02-11</td>\n",
       "      <td>-0.079475</td>\n",
       "      <td>WI</td>\n",
       "      <td>8.460629</td>\n",
       "      <td>13.00</td>\n",
       "      <td>9.719180</td>\n",
       "      <td>8.612183</td>\n",
       "      <td>Industrials</td>\n",
       "      <td>0.833935</td>\n",
       "      <td>1.121447</td>\n",
       "      <td>-4.539371</td>\n",
       "      <td>1.000000</td>\n",
       "      <td>0</td>\n",
       "      <td>Feb</td>\n",
       "      <td>Thu</td>\n",
       "      <td>-1.248841</td>\n",
       "    </tr>\n",
       "    <tr>\n",
       "      <th>2</th>\n",
       "      <td>QUINSTREET, INC</td>\n",
       "      <td>-0.016606</td>\n",
       "      <td>-0.126505</td>\n",
       "      <td>-0.118015</td>\n",
       "      <td>2010-02-11</td>\n",
       "      <td>-0.132927</td>\n",
       "      <td>CA</td>\n",
       "      <td>15.000000</td>\n",
       "      <td>15.00</td>\n",
       "      <td>16.410000</td>\n",
       "      <td>12.980000</td>\n",
       "      <td>Technology</td>\n",
       "      <td>-0.326281</td>\n",
       "      <td>-0.416149</td>\n",
       "      <td>0.000000</td>\n",
       "      <td>1.000000</td>\n",
       "      <td>0</td>\n",
       "      <td>Feb</td>\n",
       "      <td>Thu</td>\n",
       "      <td>-1.248841</td>\n",
       "    </tr>\n",
       "    <tr>\n",
       "      <th>3</th>\n",
       "      <td>TERRENO REALTY CORP</td>\n",
       "      <td>0.702559</td>\n",
       "      <td>-0.166440</td>\n",
       "      <td>-0.093063</td>\n",
       "      <td>2010-02-10</td>\n",
       "      <td>-0.165650</td>\n",
       "      <td>CA</td>\n",
       "      <td>14.692022</td>\n",
       "      <td>18.75</td>\n",
       "      <td>15.330121</td>\n",
       "      <td>14.770803</td>\n",
       "      <td>Real Estate</td>\n",
       "      <td>-0.337619</td>\n",
       "      <td>-0.288016</td>\n",
       "      <td>-4.057978</td>\n",
       "      <td>0.937500</td>\n",
       "      <td>0</td>\n",
       "      <td>Feb</td>\n",
       "      <td>Wed</td>\n",
       "      <td>-0.323599</td>\n",
       "    </tr>\n",
       "    <tr>\n",
       "      <th>6</th>\n",
       "      <td>SS&amp;C TECHNOLOGIES HOLDINGS INC</td>\n",
       "      <td>-0.016606</td>\n",
       "      <td>-0.103342</td>\n",
       "      <td>-0.107160</td>\n",
       "      <td>2010-03-31</td>\n",
       "      <td>-0.093041</td>\n",
       "      <td>CT</td>\n",
       "      <td>7.181165</td>\n",
       "      <td>8.00</td>\n",
       "      <td>7.957377</td>\n",
       "      <td>7.862139</td>\n",
       "      <td>Technology</td>\n",
       "      <td>6.526577</td>\n",
       "      <td>-1.056814</td>\n",
       "      <td>-0.818835</td>\n",
       "      <td>0.533333</td>\n",
       "      <td>0</td>\n",
       "      <td>Mar</td>\n",
       "      <td>Wed</td>\n",
       "      <td>0.512090</td>\n",
       "    </tr>\n",
       "    <tr>\n",
       "      <th>8</th>\n",
       "      <td>FIRST INTERSTATE BANCSYSTEM INC</td>\n",
       "      <td>-0.088522</td>\n",
       "      <td>-0.126505</td>\n",
       "      <td>-0.123005</td>\n",
       "      <td>2010-03-24</td>\n",
       "      <td>-0.065267</td>\n",
       "      <td>MT</td>\n",
       "      <td>11.994637</td>\n",
       "      <td>16.00</td>\n",
       "      <td>12.239342</td>\n",
       "      <td>12.331657</td>\n",
       "      <td>Financial Services</td>\n",
       "      <td>0.282375</td>\n",
       "      <td>-0.416149</td>\n",
       "      <td>-4.005363</td>\n",
       "      <td>1.103448</td>\n",
       "      <td>0</td>\n",
       "      <td>Mar</td>\n",
       "      <td>Wed</td>\n",
       "      <td>1.054108</td>\n",
       "    </tr>\n",
       "  </tbody>\n",
       "</table>\n",
       "</div>"
      ],
      "text/plain": [
       "                      Company Name     Price    Shares  Offer Amount  \\\n",
       "1            GENERAC HOLDINGS INC. -0.304272  0.153041     -0.024445   \n",
       "2                  QUINSTREET, INC -0.016606 -0.126505     -0.118015   \n",
       "3              TERRENO REALTY CORP  0.702559 -0.166440     -0.093063   \n",
       "6   SS&C TECHNOLOGIES HOLDINGS INC -0.016606 -0.103342     -0.107160   \n",
       "8  FIRST INTERSTATE BANCSYSTEM INC -0.088522 -0.126505     -0.123005   \n",
       "\n",
       "  Date Priced  employees US_state  firstday_adjclose  firstday_open  \\\n",
       "1  2010-02-11  -0.079475       WI           8.460629          13.00   \n",
       "2  2010-02-11  -0.132927       CA          15.000000          15.00   \n",
       "3  2010-02-10  -0.165650       CA          14.692022          18.75   \n",
       "6  2010-03-31  -0.093041       CT           7.181165           8.00   \n",
       "8  2010-03-24  -0.065267       MT          11.994637          16.00   \n",
       "\n",
       "   inmonth_adjclose  inweek_adjclose              sector   CEO_pay  CEO_born  \\\n",
       "1          9.719180         8.612183         Industrials  0.833935  1.121447   \n",
       "2         16.410000        12.980000          Technology -0.326281 -0.416149   \n",
       "3         15.330121        14.770803         Real Estate -0.337619 -0.288016   \n",
       "6          7.957377         7.862139          Technology  6.526577 -1.056814   \n",
       "8         12.239342        12.331657  Financial Services  0.282375 -0.416149   \n",
       "\n",
       "   diff_close_inday_2_open_firstday  check_prices  y month weekday  \\\n",
       "1                         -4.539371      1.000000  0   Feb     Thu   \n",
       "2                          0.000000      1.000000  0   Feb     Thu   \n",
       "3                         -4.057978      0.937500  0   Feb     Wed   \n",
       "6                         -0.818835      0.533333  0   Mar     Wed   \n",
       "8                         -4.005363      1.103448  0   Mar     Wed   \n",
       "\n",
       "   SP_Week_Chg  \n",
       "1    -1.248841  \n",
       "2    -1.248841  \n",
       "3    -0.323599  \n",
       "6     0.512090  \n",
       "8     1.054108  "
      ]
     },
     "execution_count": 31,
     "metadata": {},
     "output_type": "execute_result"
    }
   ],
   "source": [
    "# Initialize a scaler, then apply it to the features\n",
    "scaler = StandardScaler() # default=(0, 1)\n",
    "numerical = ['Price', 'Shares', 'Offer Amount', 'employees', 'CEO_pay', 'CEO_born', 'SP_Week_Chg']\n",
    "\n",
    "df[numerical] = scaler.fit_transform(df[numerical])\n",
    "\n",
    "# Show an example of a record with scaling applied\n",
    "df.head()"
   ]
  },
  {
   "cell_type": "markdown",
   "metadata": {},
   "source": [
    "# Modelling"
   ]
  },
  {
   "cell_type": "markdown",
   "metadata": {},
   "source": [
    "I will predict the IPO price change on the first day of trading. If it grew less than \\\\$1, then I consider it a failure. I use these features in my model:\n",
    "- Price, Shares, Offer Amount and Employees from Nasdaq data on IPO\n",
    "- sector, CEO_pay, CEO_born and SP_Week_Chg - from Yahoo Finance\n",
    "\n",
    "It makes sense to predict failures, because I prefer rather not to lose money in the first place rather than to earn larger sum given larger risk (so I'm risk averse). Remember, my motivation with this project was partially to avoid costly mistakes such as investing into Lyft. \n",
    "\n",
    "When calculating returns from this investing strategy of avoiding failed IPOs, I consider only \"successful\" cases (those predicted as 0 by the model). So I calculate the total **predicted return** from using the model and compare it to the **actual return** (if all IPOs which prices went higher than $1 on the first day of trading were predicted correctly - practically impossible task) and the **return using the naive approach** - i.e. when we invested in each and every IPO - buying it at opening price and selling at closing price."
   ]
  },
  {
   "cell_type": "markdown",
   "metadata": {},
   "source": [
    "## Splitting into X and Y"
   ]
  },
  {
   "cell_type": "code",
   "execution_count": 32,
   "metadata": {},
   "outputs": [],
   "source": [
    "X = dmatrix(\"Q('Price') + Q('Shares') + Q('Offer Amount') + Q('employees') + \\\n",
    "            Q('sector') + Q('SP_Week_Chg') + Q('CEO_pay') + Q('CEO_born')+ Q('weekday')\", data=df, return_type='dataframe')"
   ]
  },
  {
   "cell_type": "code",
   "execution_count": 33,
   "metadata": {},
   "outputs": [
    {
     "data": {
      "text/plain": [
       "(565, 22)"
      ]
     },
     "execution_count": 33,
     "metadata": {},
     "output_type": "execute_result"
    }
   ],
   "source": [
    "X.shape"
   ]
  },
  {
   "cell_type": "code",
   "execution_count": 34,
   "metadata": {},
   "outputs": [
    {
     "name": "stdout",
     "output_type": "stream",
     "text": [
      "number of true positives - 464\n"
     ]
    }
   ],
   "source": [
    "#predict failure if IPO's price is less than $1 change on the first trading day\n",
    "y = df['diff_close_inday_2_open_firstday'].apply(lambda x: 0 if x >= 1 else 1)\n",
    "print('number of true positives -', y.sum())"
   ]
  },
  {
   "cell_type": "code",
   "execution_count": 35,
   "metadata": {},
   "outputs": [],
   "source": [
    "X_train, X_test, y_train, y_test = train_test_split(X, y, test_size=0.2, random_state=42)"
   ]
  },
  {
   "cell_type": "markdown",
   "metadata": {},
   "source": [
    "It looks like we are dealing here with the **imbalance class problem**. Two classes are unequal and has a ratio of about 80% to 20% (464/565 vs 101/565). In this case, the model is biased towards \"failures\", in other words it predicts \"failures\" more often (overfits this class). <br>\n",
    "Hence we can specify class_weight parameter as 'balanced' for LogisticRegression. For 3 other models - GradientBoosting, RandomForest and AdaBoost - I will use the oversampling method of minority class using **SMOTE** approach. \n",
    "\n",
    "Another important aspect to consider here is what metrics should be actually used to assess model performance. With imbalanced classes, accuracy is not a good evaluation criteria of the model performance. Since we are pursuing the risk-averse strategy, we want to classify correctly as many failed IPOs as possible - in other words maximize **precision**. <br>"
   ]
  },
  {
   "cell_type": "code",
   "execution_count": 36,
   "metadata": {},
   "outputs": [
    {
     "name": "stderr",
     "output_type": "stream",
     "text": [
      "Using TensorFlow backend.\n"
     ]
    },
    {
     "name": "stdout",
     "output_type": "stream",
     "text": [
      "(756, 22) (756,)\n"
     ]
    }
   ],
   "source": [
    "from imblearn.over_sampling import SMOTE\n",
    "\n",
    "smote = SMOTE('minority', random_state=43)\n",
    "\n",
    "X_sm, y_sm = smote.fit_sample(X_train, y_train)\n",
    "print(X_sm.shape, y_sm.shape)"
   ]
  },
  {
   "cell_type": "markdown",
   "metadata": {},
   "source": [
    "# MODEL 1 - GradientBoosting"
   ]
  },
  {
   "cell_type": "markdown",
   "metadata": {},
   "source": [
    "### GradientBoosting without resampling of minority class:"
   ]
  },
  {
   "cell_type": "code",
   "execution_count": 37,
   "metadata": {},
   "outputs": [
    {
     "name": "stdout",
     "output_type": "stream",
     "text": [
      "accuracy score: 0.7610619469026548\n",
      "recall score: 0.9418604651162791\n",
      "precision score: 0.7864077669902912\n"
     ]
    }
   ],
   "source": [
    "clf = GradientBoostingClassifier(n_estimators=1000, learning_rate=0.05)\n",
    "\n",
    "clf.fit(X_train, y_train)\n",
    "y_pred = clf.predict(X_test)\n",
    "\n",
    "#evaluate the model on hold-out data\n",
    "print('accuracy score:', clf.score(X_test, y_test))\n",
    "print('recall score:', recall_score(y_test, y_pred))\n",
    "print('precision score:', precision_score(y_test, y_pred))"
   ]
  },
  {
   "cell_type": "markdown",
   "metadata": {},
   "source": [
    "### GradientBoosting after resampling of minority class:"
   ]
  },
  {
   "cell_type": "code",
   "execution_count": 38,
   "metadata": {},
   "outputs": [
    {
     "name": "stdout",
     "output_type": "stream",
     "text": [
      "accuracy score: 0.7079646017699115\n",
      "recall score: 0.8372093023255814\n",
      "precision score: 0.7912087912087912\n"
     ]
    }
   ],
   "source": [
    "clf = GradientBoostingClassifier(n_estimators=1000, learning_rate=0.05)\n",
    "\n",
    "clf.fit(X_sm, y_sm)\n",
    "y_pred = clf.predict(X_test)\n",
    "\n",
    "#evaluate the model on hold-out data\n",
    "print('accuracy score:', clf.score(X_test, y_test))\n",
    "print('recall score:', recall_score(y_test, y_pred))\n",
    "print('precision score:', precision_score(y_test, y_pred))"
   ]
  },
  {
   "cell_type": "code",
   "execution_count": 39,
   "metadata": {},
   "outputs": [],
   "source": [
    "def create_results_df(X_train, X_test, y_pred, y_test):\n",
    "    \n",
    "    results = []\n",
    "    for idx, chg, ypred, ytrue in zip(y_test.index, df['diff_close_inday_2_open_firstday'][y_test.index], y_pred, y_test):\n",
    "        if ypred == ytrue:\n",
    "            results.append([idx, chg, ypred, ytrue, 1])\n",
    "        else:\n",
    "            results.append([idx, chg, ypred, ytrue, 0])\n",
    "    return pd.DataFrame(results, columns=['index', '$_chg', 'predicted', 'actual', 'correct'])"
   ]
  },
  {
   "cell_type": "code",
   "execution_count": 40,
   "metadata": {},
   "outputs": [],
   "source": [
    "def return_model_keyresults(results_df):\n",
    "    summ_pred = results_df[results_df.predicted == 0]['$_chg'].sum()\n",
    "    mean_pred = results_df[results_df.predicted == 0]['$_chg'].mean()\n",
    "    total_pred = results_df.predicted.sum()\n",
    "    \n",
    "    summ_actual = results_df[results_df.actual == 0]['$_chg'].sum()\n",
    "    mean_actual = results_df[results_df.actual == 0]['$_chg'].mean()\n",
    "    total_actual = results_df.actual.sum()\n",
    "    \n",
    "    summ_naive = results_df['$_chg'].sum()\n",
    "    mean_naive = results_df['$_chg'].mean()\n",
    "    total_naive = len(results_df['$_chg'])\n",
    "    print('actual successes:', results_df.actual.sum())\n",
    "    print('predicted successes:', results_df.predicted.sum())\n",
    "    print('predicted return: ${:0.2f} for {} IPOs -- ${:0.2f} per IPO '.format(summ_pred, total_pred, mean_pred))\n",
    "    print('actual return: ${:0.2f} for {} IPOs -- ${:0.2f} per IPO '.format(summ_actual, total_actual, mean_actual))\n",
    "    print('naive return: ${:0.2f} for {} IPOs -- ${:0.2f} per IPO '.format(summ_naive, total_naive, mean_naive))"
   ]
  },
  {
   "cell_type": "code",
   "execution_count": 41,
   "metadata": {},
   "outputs": [],
   "source": [
    "rf = create_results_df(X_train, X_test, y_pred, y_test)"
   ]
  },
  {
   "cell_type": "code",
   "execution_count": 42,
   "metadata": {},
   "outputs": [
    {
     "name": "stdout",
     "output_type": "stream",
     "text": [
      "actual successes: 86\n",
      "predicted successes: 91\n",
      "predicted return: $26.28 for 91 IPOs -- $1.19 per IPO \n",
      "actual return: $85.99 for 86 IPOs -- $3.18 per IPO \n",
      "naive return: $-34.09 for 113 IPOs -- $-0.30 per IPO \n"
     ]
    }
   ],
   "source": [
    "return_model_keyresults(rf)"
   ]
  },
  {
   "cell_type": "markdown",
   "metadata": {},
   "source": [
    "Commentary: we can see that although the model doesn't predict all successful IPOs (as defined here), it still performs quite well with accuracy score of 76%. <br>\n",
    "Well, you wouldn't become rich with this strategy. But by using the model, one could avoid financially detrimental choices in case of investing in each and every IPO (naive return)."
   ]
  },
  {
   "cell_type": "markdown",
   "metadata": {},
   "source": [
    "# MODEL 2 - Logistic Regression"
   ]
  },
  {
   "cell_type": "code",
   "execution_count": 43,
   "metadata": {},
   "outputs": [
    {
     "name": "stdout",
     "output_type": "stream",
     "text": [
      "accuracy score: 0.6371681415929203\n",
      "recall score: 0.6046511627906976\n",
      "precision score: 0.8813559322033898\n"
     ]
    }
   ],
   "source": [
    "clf = LogisticRegression(solver='lbfgs', class_weight='balanced')\n",
    "clf.fit(X_train, y_train)\n",
    "y_pred = clf.predict(X_test)\n",
    "#evaluate the model on hold-out data\n",
    "print('accuracy score:', clf.score(X_test, y_test))\n",
    "print('recall score:', recall_score(y_test, y_pred))\n",
    "print('precision score:', precision_score(y_test, y_pred))"
   ]
  },
  {
   "cell_type": "code",
   "execution_count": 44,
   "metadata": {},
   "outputs": [],
   "source": [
    "rf_log = create_results_df(X_train, X_test, y_pred, y_test)"
   ]
  },
  {
   "cell_type": "code",
   "execution_count": 45,
   "metadata": {},
   "outputs": [
    {
     "name": "stdout",
     "output_type": "stream",
     "text": [
      "actual successes: 86\n",
      "predicted successes: 59\n",
      "predicted return: $35.17 for 59 IPOs -- $0.65 per IPO \n",
      "actual return: $85.99 for 86 IPOs -- $3.18 per IPO \n",
      "naive return: $-34.09 for 113 IPOs -- $-0.30 per IPO \n"
     ]
    }
   ],
   "source": [
    "return_model_keyresults(rf_log)"
   ]
  },
  {
   "cell_type": "markdown",
   "metadata": {},
   "source": [
    "# MODEL 3 - RandomForest"
   ]
  },
  {
   "cell_type": "code",
   "execution_count": 46,
   "metadata": {},
   "outputs": [
    {
     "name": "stdout",
     "output_type": "stream",
     "text": [
      "accuracy score: 0.7433628318584071\n",
      "recall score: 0.8953488372093024\n",
      "precision score: 0.7938144329896907\n"
     ]
    }
   ],
   "source": [
    "clf = RandomForestClassifier(n_estimators=1000)\n",
    "\n",
    "clf.fit(X_sm, y_sm)\n",
    "y_pred = clf.predict(X_test)\n",
    "\n",
    "#evaluate the model on hold-out data\n",
    "print('accuracy score:', clf.score(X_test, y_test))\n",
    "print('recall score:', recall_score(y_test, y_pred))\n",
    "print('precision score:', precision_score(y_test, y_pred))"
   ]
  },
  {
   "cell_type": "code",
   "execution_count": 47,
   "metadata": {},
   "outputs": [],
   "source": [
    "rf_randomforest = create_results_df(X_train, X_test, y_pred, y_test)"
   ]
  },
  {
   "cell_type": "code",
   "execution_count": 48,
   "metadata": {},
   "outputs": [
    {
     "name": "stdout",
     "output_type": "stream",
     "text": [
      "actual successes: 86\n",
      "predicted successes: 97\n",
      "predicted return: $27.53 for 97 IPOs -- $1.72 per IPO \n",
      "actual return: $85.99 for 86 IPOs -- $3.18 per IPO \n",
      "naive return: $-34.09 for 113 IPOs -- $-0.30 per IPO \n"
     ]
    }
   ],
   "source": [
    "return_model_keyresults(rf_randomforest)"
   ]
  },
  {
   "cell_type": "markdown",
   "metadata": {},
   "source": [
    "# MODEL 4 - AdaBoost"
   ]
  },
  {
   "cell_type": "code",
   "execution_count": 49,
   "metadata": {},
   "outputs": [
    {
     "name": "stdout",
     "output_type": "stream",
     "text": [
      "accuracy score: 0.6902654867256637\n",
      "recall score: 0.7325581395348837\n",
      "precision score: 0.84\n"
     ]
    }
   ],
   "source": [
    "clf = AdaBoostClassifier(n_estimators=1000, learning_rate=0.05)\n",
    "\n",
    "clf.fit(X_sm, y_sm)\n",
    "y_pred = clf.predict(X_test)\n",
    "\n",
    "#evaluate the model on hold-out data\n",
    "print('accuracy score:', clf.score(X_test, y_test))\n",
    "print('recall score:', recall_score(y_test, y_pred))\n",
    "print('precision score:', precision_score(y_test, y_pred))"
   ]
  },
  {
   "cell_type": "code",
   "execution_count": 50,
   "metadata": {},
   "outputs": [],
   "source": [
    "rf_ada = create_results_df(X_train, X_test, y_pred, y_test)"
   ]
  },
  {
   "cell_type": "code",
   "execution_count": 51,
   "metadata": {},
   "outputs": [
    {
     "name": "stdout",
     "output_type": "stream",
     "text": [
      "actual successes: 86\n",
      "predicted successes: 75\n",
      "predicted return: $41.98 for 75 IPOs -- $1.10 per IPO \n",
      "actual return: $85.99 for 86 IPOs -- $3.18 per IPO \n",
      "naive return: $-34.09 for 113 IPOs -- $-0.30 per IPO \n"
     ]
    }
   ],
   "source": [
    "return_model_keyresults(rf_ada)"
   ]
  },
  {
   "cell_type": "markdown",
   "metadata": {},
   "source": [
    "# Feature Importances"
   ]
  },
  {
   "cell_type": "code",
   "execution_count": 52,
   "metadata": {},
   "outputs": [],
   "source": [
    "def feature_plot(importances, X_train, y_train):\n",
    "    \n",
    "    # Display the five most important features\n",
    "    indices = np.argsort(importances)[::-1]\n",
    "    columns = X_train.columns.values[indices[:10]]\n",
    "    values = importances[indices][:10]\n",
    "\n",
    "    # Creat the plot\n",
    "    fig = plt.figure(figsize = (9,5))\n",
    "    plt.title(\"Normalized Weights for First Five Most Predictive Features\", fontsize = 16)\n",
    "    plt.bar(np.arange(10), values, width = 0.6, align=\"center\", color = '#00A000', \\\n",
    "          label = \"Feature Weight\")\n",
    "    plt.bar(np.arange(10) - 0.3, np.cumsum(values), width = 0.2, align = \"center\", color = '#00A0A0', \\\n",
    "          label = \"Cumulative Feature Weight\")\n",
    "    plt.xticks(np.arange(10), columns, rotation=-70)\n",
    "    plt.xlim((-0.5, 10))\n",
    "    plt.ylabel(\"Weight\", fontsize = 12)\n",
    "    plt.xlabel(\"Feature\", fontsize = 12)\n",
    "    \n",
    "    plt.legend(loc = 'upper center')\n",
    "    plt.tight_layout()\n",
    "    plt.show()  "
   ]
  },
  {
   "cell_type": "code",
   "execution_count": 53,
   "metadata": {},
   "outputs": [
    {
     "data": {
      "image/png": "[encoded data removed]",
      "text/plain": [
       "<Figure size 648x360 with 1 Axes>"
      ]
     },
     "metadata": {
      "needs_background": "light"
     },
     "output_type": "display_data"
    }
   ],
   "source": [
    "#feature importances for the last model used - here AdaBoost\n",
    "f_importances = clf.feature_importances_\n",
    "feature_plot(f_importances, X_train, y_train);"
   ]
  },
  {
   "cell_type": "markdown",
   "metadata": {},
   "source": [
    "Conclusion: from the plot above we can see that the 5 most important features are broad market conditions, offer amount, CEO_pay, number of employees and number of shares. "
   ]
  },
  {
   "cell_type": "markdown",
   "metadata": {},
   "source": [
    "# Conclusion:"
   ]
  },
  {
   "cell_type": "markdown",
   "metadata": {},
   "source": [
    "Among the 4 models tested here, **AdaBoost** performed the best (others are GradientBoost, Logistic and RandomForest). Although it has the second highest precision score 0.84 after Logistic Regression with precision score of 0.88, its other metrics - recall score and accuracy score - are much higher than those of Logistic Regression (recall score: 0.73 vs 0.6; accuracy score: 0.69 vs 0.63).\n",
    "<br><br>\n",
    "When considering returns on \"successes\" (as opposite to failures), we also get the highest returns with the AdaBoost - \\\\$41.98 (vs GB=\\\\$26.28, RF=\\\\$27.53 , Logistic=\\\\$35.17). <br>\n",
    "It's not the highest possible amount that we could have earned if we could have predicted all successful IPOs correctly - \\\\$85.99, which is practically impossible. Still it is much better outcome than naive approach, when investing in each and every IPO. In this case, the returns would have been negative or \\\\$-34.09.\n",
    "\n",
    "In general, all tested models performed much better than the naive approach and so could help avoid losing money by investing in unsuccessful IPOs (although this conclusion is limited by the definition of 'success' as provided here - i.e. IPO's price should change by more than $1 on its first day of trading)."
   ]
  },
  {
   "cell_type": "code",
   "execution_count": null,
   "metadata": {},
   "outputs": [],
   "source": []
  }
 ],
 "metadata": {
  "kernelspec": {
   "display_name": "Python 3",
   "language": "python",
   "name": "python3"
  },
  "language_info": {
   "codemirror_mode": {
    "name": "ipython",
    "version": 3
   },
   "file_extension": ".py",
   "mimetype": "text/x-python",
   "name": "python",
   "nbconvert_exporter": "python",
   "pygments_lexer": "ipython3",
   "version": "3.7.2"
  }
 },
 "nbformat": 4,
 "nbformat_minor": 2
}
